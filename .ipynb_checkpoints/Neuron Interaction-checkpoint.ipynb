{
 "cells": [
  {
   "cell_type": "code",
   "execution_count": null,
   "metadata": {},
   "outputs": [],
   "source": [
    "\n",
    "import numpy as np\n",
    "import scipy.ndimage as nd\n",
    "import tensorflow as tf\n",
    "\n",
    "import lucid.modelzoo.vision_models as models\n",
    "from lucid.misc.io import show\n",
    "import lucid.optvis.objectives as objectives\n",
    "import lucid.optvis.param as param\n",
    "import lucid.optvis.render as render\n",
    "import lucid.optvis.transform as transform"
   ]
  },
  {
   "cell_type": "code",
   "execution_count": null,
   "metadata": {},
   "outputs": [],
   "source": [
    "model = models.InceptionV1()\n",
    "model.load_graphdef()"
   ]
  },
  {
   "cell_type": "code",
   "execution_count": null,
   "metadata": {},
   "outputs": [],
   "source": [
    "neuron1 = ('mixed4b_pre_relu', 111)     # large fluffy\n",
    "# neuron1 = ('mixed3a_pre_relu', 139)   # pointilist\n",
    "# neuron1 = ('mixed3b_pre_relu',  81)   # brush trokes\n",
    "# neuron1 = ('mixed4a_pre_relu',  97)   # wavy\n",
    "# neuron1 = ('mixed4a_pre_relu',  41)   # frames\n",
    "# neuron1 = ('mixed4a_pre_relu', 479)   # B/W\n",
    "\n",
    "neuron2 = ('mixed4a_pre_relu', 476)     # art\n",
    "# neuron2 = ('mixed4b_pre_relu', 360)   # lattices\n",
    "# neuron2 = ('mixed4b_pre_relu', 482)   # arcs\n",
    "# neuron2 = ('mixed4c_pre_relu', 440)   # small fluffy\n",
    "# neuron2 = ('mixed4d_pre_relu', 479)   # bird beaks\n",
    "# neuron2 = ('mixed4e_pre_relu', 718)   # shoulders"
   ]
  },
  {
   "cell_type": "code",
   "execution_count": null,
   "metadata": {},
   "outputs": [],
   "source": [
    "C = lambda neuron: objectives.channel(*neuron)\n",
    "\n",
    "_ = render.render_vis(model, C(neuron1))\n",
    "_ = render.render_vis(model, C(neuron2))\n",
    "_ = render.render_vis(model, C(neuron1) + C(neuron2))"
   ]
  },
  {
   "cell_type": "code",
   "execution_count": null,
   "metadata": {},
   "outputs": [],
   "source": [
    "obj = objectives.direction(\"mixed4d_pre_relu\", np.random.randn(528))\n",
    "_ = render.render_vis(model, obj)"
   ]
  },
  {
   "cell_type": "code",
   "execution_count": null,
   "metadata": {},
   "outputs": [],
   "source": [
    "def interpolate_param_f():\n",
    "  unique = param.fft_image((6, 128, 128, 3))\n",
    "  shared = [\n",
    "    param.lowres_tensor((6, 128, 128, 3), (1, 128//2, 128//2, 3)),\n",
    "    param.lowres_tensor((6, 128, 128, 3), (1, 128//4, 128//4, 3)),\n",
    "    param.lowres_tensor((6, 128, 128, 3), (1, 128//8, 128//8, 3)),\n",
    "    param.lowres_tensor((6, 128, 128, 3), (2, 128//8, 128//8, 3)),\n",
    "    param.lowres_tensor((6, 128, 128, 3), (1, 128//16, 128//16, 3)),\n",
    "    param.lowres_tensor((6, 128, 128, 3), (2, 128//16, 128//16, 3)),\n",
    "  ]\n",
    "  return param.to_valid_rgb(unique + sum(shared), decorrelate=True)\n",
    "\n",
    "obj = objectives.channel_interpolate(\"mixed4a_pre_relu\", 476, \"mixed4a_pre_relu\", 460)\n",
    "\n",
    "_ = render.render_vis(model, obj, interpolate_param_f)"
   ]
  }
 ],
 "metadata": {
  "kernelspec": {
   "display_name": "lucidcpu",
   "language": "python",
   "name": "lucidcpu"
  },
  "language_info": {
   "codemirror_mode": {
    "name": "ipython",
    "version": 2
   },
   "file_extension": ".py",
   "mimetype": "text/x-python",
   "name": "python",
   "nbconvert_exporter": "python",
   "pygments_lexer": "ipython2",
   "version": "2.7.12"
  }
 },
 "nbformat": 4,
 "nbformat_minor": 2
}
