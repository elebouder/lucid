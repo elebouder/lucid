{
 "cells": [
  {
   "cell_type": "code",
   "execution_count": 1,
   "metadata": {},
   "outputs": [
    {
     "ename": "ImportError",
     "evalue": "No module named matplotlib.pyplot",
     "output_type": "error",
     "traceback": [
      "\u001b[0;31m---------------------------------------------------------------------------\u001b[0m",
      "\u001b[0;31mImportError\u001b[0m                               Traceback (most recent call last)",
      "\u001b[0;32m<ipython-input-1-1e8ba5d2c77d>\u001b[0m in \u001b[0;36m<module>\u001b[0;34m()\u001b[0m\n\u001b[1;32m      9\u001b[0m \u001b[0;32mimport\u001b[0m \u001b[0mlucid\u001b[0m\u001b[0;34m.\u001b[0m\u001b[0moptvis\u001b[0m\u001b[0;34m.\u001b[0m\u001b[0mobjectives\u001b[0m \u001b[0;32mas\u001b[0m \u001b[0mobjectives\u001b[0m\u001b[0;34m\u001b[0m\u001b[0m\n\u001b[1;32m     10\u001b[0m \u001b[0;32mimport\u001b[0m \u001b[0mlucid\u001b[0m\u001b[0;34m.\u001b[0m\u001b[0moptvis\u001b[0m\u001b[0;34m.\u001b[0m\u001b[0mparam\u001b[0m \u001b[0;32mas\u001b[0m \u001b[0mparam\u001b[0m\u001b[0;34m\u001b[0m\u001b[0m\n\u001b[0;32m---> 11\u001b[0;31m \u001b[0;32mimport\u001b[0m \u001b[0mmatplotlib\u001b[0m\u001b[0;34m.\u001b[0m\u001b[0mpyplot\u001b[0m \u001b[0;32mas\u001b[0m \u001b[0mplt\u001b[0m\u001b[0;34m\u001b[0m\u001b[0m\n\u001b[0m\u001b[1;32m     12\u001b[0m \u001b[0;32mimport\u001b[0m \u001b[0mos\u001b[0m\u001b[0;34m\u001b[0m\u001b[0m\n\u001b[1;32m     13\u001b[0m \u001b[0;32mfrom\u001b[0m \u001b[0mos\u001b[0m \u001b[0;32mimport\u001b[0m \u001b[0mmkdir\u001b[0m\u001b[0;34m\u001b[0m\u001b[0m\n",
      "\u001b[0;31mImportError\u001b[0m: No module named matplotlib.pyplot"
     ]
    }
   ],
   "source": [
    "\n",
    "\n",
    "# Import all modules for lucid visualization\n",
    "\n",
    "from lucid.modelzoo.vision_base import Model\n",
    "import tensorflow as tf\n",
    "import numpy as np\n",
    "import lucid.optvis.render as render\n",
    "import lucid.optvis.objectives as objectives\n",
    "import lucid.optvis.param as param\n",
    "import matplotlib.pyplot as plt\n",
    "import os\n",
    "from os import mkdir\n",
    "\n"
   ]
  },
  {
   "cell_type": "code",
   "execution_count": null,
   "metadata": {},
   "outputs": [],
   "source": [
    "# Following is an example on creating parameters to visualize a custom layer, say, Conv35 of the model I loaded above.\n",
    "channel = lambda n: objectives.channel('cnn/conv2d_35/Conv2D', n)\n",
    "\n",
    "# Creates example objective functions for the first 5 neurons in Conv2d_35\n",
    "objs = [channel(i) for i in range(5)]\n",
    "param_f = lambda: param.image(224)"
   ]
  },
  {
   "cell_type": "code",
   "execution_count": null,
   "metadata": {},
   "outputs": [],
   "source": [
    "\n",
    "\n",
    "# Iterate over all objectives you created for different neurons\n",
    "\n",
    "def makedir(path):\n",
    "    if not os.path.exists(path):\n",
    "        mkdir(path)\n",
    "        \n",
    "master_output_path = './Lucid-Visualizations' # This is the directory where all visualizations will be stored as npy's\n",
    "makedir(master_output_path)\n",
    "\n",
    "# Feel free to substitute 'Conv2D' with any kind of layer you would like to visualize\n",
    "all_convs = [node.name for node in eid.graph_def.node if 'Conv2D' in node.name]\n",
    "\n",
    "for layer in all_convs:\n",
    "    print 'Rendering visualizations for layer %s'%(layer)\n",
    "    \n",
    "    # Create directories to store rendered visualizations\n",
    "    \n",
    "    curr_conv_layer = '_'.join(layer.split('/'))\n",
    "    layer_output_path = os.path.join(master_output_path,\n",
    "                                        curr_conv_layer)\n",
    "    makedir(layer_output_path)\n",
    "    \n",
    "    # Create objective functions for the current layer (sample code for first 5 neurons)\n",
    "    channel = lambda n: objectives.channel(layer, n)\n",
    "    \n",
    "    # Objectives declared below create visualizations for the first 10 neurons in each layer. \n",
    "    objs = [channel(i) for i in range(10)]\n",
    "    \n",
    "    # Main loop for rendering visualizations\n",
    "    for ind_obj, obj in enumerate(objs):\n",
    "        print 'Rendering visualizations for neuron-%s'%(ind_obj)\n",
    "\n",
    "        # Store/display rendered visualizations \n",
    "        # upto 1000 iterations, at 200 step intervals\n",
    "        \n",
    "        imgs = render.render_vis(eid, obj, param_f, thresholds=np.arange(0,10000,1000))\n",
    "        curr_layer_fn = 'Visualized_Rendering_%s_%s.npy'%(ind_obj,\n",
    "                                                          curr_conv_layer)\n",
    "        curr_layer_path = os.path.join(layer_output_path, curr_layer_fn)\n",
    "        np.save(curr_layer_path, imgs)\n",
    "        print 'Saved in %s'%(curr_layer_path)\n",
    "\n"
   ]
  }
 ],
 "metadata": {
  "kernelspec": {
   "display_name": "lucidcpu",
   "language": "python",
   "name": "lucidcpu"
  },
  "language_info": {
   "codemirror_mode": {
    "name": "ipython",
    "version": 2
   },
   "file_extension": ".py",
   "mimetype": "text/x-python",
   "name": "python",
   "nbconvert_exporter": "python",
   "pygments_lexer": "ipython2",
   "version": "2.7.12"
  }
 },
 "nbformat": 4,
 "nbformat_minor": 2
}
