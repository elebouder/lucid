{
 "cells": [
  {
   "cell_type": "code",
   "execution_count": null,
   "metadata": {},
   "outputs": [],
   "source": [
    "import glob\n",
    "import numpy as np\n",
    "from scipy.misc import imsave\n",
    "import matplotlib.pyplot as plt\n",
    "from tqdm import tqdm\n",
    "\n",
    "\n",
    "all_viz_dirs = glob.glob('./Lucid-Visualizations/*')\n",
    "all_np_files = {viz_dir:glob.glob('%s/*npy'%(viz_dir)) for viz_dir in all_viz_dirs}\n",
    "\n",
    "\n",
    "for viz_dir, vizs in tqdm(all_np_files.iteritems()):\n",
    "    for viz in tqdm(vizs, desc='Converting visualizations from %s'%(viz_dir)):\n",
    "        np_viz = np.load(viz)\n",
    "        imsave(viz.replace('.npy','.png'),np_viz[-1][0])\n",
    "\n"
   ]
  }
 ],
 "metadata": {
  "kernelspec": {
   "display_name": "lucidcpu",
   "language": "python",
   "name": "lucidcpu"
  },
  "language_info": {
   "codemirror_mode": {
    "name": "ipython",
    "version": 2
   },
   "file_extension": ".py",
   "mimetype": "text/x-python",
   "name": "python",
   "nbconvert_exporter": "python",
   "pygments_lexer": "ipython2",
   "version": "2.7.12"
  }
 },
 "nbformat": 4,
 "nbformat_minor": 2
}
